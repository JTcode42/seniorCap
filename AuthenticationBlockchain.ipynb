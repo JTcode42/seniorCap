{
 "cells": [
  {
   "cell_type": "markdown",
   "id": "taken-hayes",
   "metadata": {},
   "source": [
    "# Blockchain for Securing Authentication Credentials\n",
    "Joel Holton, Devin Mauro-Gallegos, Clark Mousaw & Mehul Patel"
   ]
  },
  {
   "cell_type": "code",
   "execution_count": 1,
   "id": "sixth-bottle",
   "metadata": {},
   "outputs": [],
   "source": [
    "import datetime # for timestamps\n",
    "import hashlib # encryption"
   ]
  },
  {
   "cell_type": "code",
   "execution_count": 2,
   "id": "stretch-signature",
   "metadata": {},
   "outputs": [],
   "source": [
    "class Block():\n",
    "    def __init__(self, index, timestamp, auth, previousHash):\n",
    "        self.index = index\n",
    "        self.timestamp = timestamp\n",
    "        self.auth = auth # Removing this attribute would remove the ability to view this information\n",
    "        self.previousHash = previousHash\n",
    "        self.hash = self.hashing()\n",
    "    \n",
    "    def hashing(self):\n",
    "        e = hashlib.sha256()\n",
    "        e.update(str(self.index).encode('utf-8'))\n",
    "        e.update(str(self.timestamp).encode('utf-8'))\n",
    "        e.update(str(self.auth).encode('utf-8'))\n",
    "        e.update(str(self.previousHash).encode('utf-8'))\n",
    "        return e.hexdigest()"
   ]
  },
  {
   "cell_type": "code",
   "execution_count": 3,
   "id": "unlimited-culture",
   "metadata": {},
   "outputs": [],
   "source": [
    "class authChain():\n",
    "    def __init__(self): # Every new chain in this class starts with the first block function.\n",
    "        self.blocks = [self.getFirstBlock()]\n",
    "        self.chain = []\n",
    "    \n",
    "    def getFirstBlock(self):  # this function defines the datatype of the auth variable for storing data\n",
    "        return Block(0, \n",
    "                            datetime.datetime.utcnow(), \n",
    "                            'First', \n",
    "                            [\"User ID\",\"Password\"]) # the data (auth) is a list with strings \n",
    "    # These lists have the User ID at index 0 and Password at index 1 \n",
    "    \n",
    "    def addBlock(self, auth):\n",
    "        self.blocks.append(Block(len(self.blocks), \n",
    "                                        datetime.datetime.utcnow(), \n",
    "                                        auth, \n",
    "                                        self.blocks[len(self.blocks)-1].hash))\n",
    "        self.chain.append(Block)\n",
    "    \n",
    "    def dataVerification(self, Bool=True): # Has the data maintained its integrity?\n",
    "        statement = True\n",
    "        \n",
    "        for i in range(1,len(self.blocks)):\n",
    "            if not self.blocks[i].dataVerification():\n",
    "                statement = False\n",
    "                if Bool:\n",
    "                    print('Incorrect data type: Block '+str(i))\n",
    "                    \n",
    "            # Is the block no longer in the correct index?\n",
    "                    \n",
    "            if self.blocks[i].index != i:\n",
    "                statement = False\n",
    "                if Bool:\n",
    "                    print('Incorrect block index: Block '+str(i))\n",
    "                        \n",
    "                        \n",
    "            # Are there any blocks that have an incorrect timestamp or have been backdated?\n",
    "            \n",
    "            if self.blocks[i-1].timestamp >= self.blocks[i].timestamp: \n",
    "                statement = False\n",
    "                if Bool:\n",
    "                    print('Backdated: Block '+str(i))\n",
    "                    \n",
    "            # Does the current hash match the previous hash?\n",
    "            \n",
    "            if self.blocks[i-1].hash != self.blocks[i].previousHash:\n",
    "                statement = False\n",
    "                if Bool:\n",
    "                    print('Incorrect previous hash: Block '+str(i))\n",
    "                    \n",
    "            # Cross-Checking\n",
    "            \n",
    "            if self.blocks[i].hash != self.blocks[i].hashing():\n",
    "                statement = False\n",
    "                if Bool:\n",
    "                    print('Incorrect hash: Block '+str(i))\n",
    "        \n",
    "        return statement\n",
    "        \n",
    "    def getLength(self): # not the first block   #for checking how long the chain is\n",
    "        return len(self.blocks)-1\n"
   ]
  },
  {
   "cell_type": "markdown",
   "id": "demographic-brain",
   "metadata": {},
   "source": [
    "## Here are the ways we can communicate with our Blockchain"
   ]
  },
  {
   "cell_type": "markdown",
   "id": "initial-perth",
   "metadata": {},
   "source": [
    "`addBlock()` adds to the Chain"
   ]
  },
  {
   "cell_type": "markdown",
   "id": "homeless-proposition",
   "metadata": {},
   "source": [
    "### Exercise 1: Make a new Blockchain using the authChain class"
   ]
  },
  {
   "cell_type": "code",
   "execution_count": 4,
   "id": "informational-column",
   "metadata": {},
   "outputs": [],
   "source": [
    "us = authChain() # This is new Blockchain called \"us\"\n",
    "\n",
    "us.addBlock([\"Joel\",\"Password\"])\n",
    "us.addBlock([\"Clark\",\"Password\"])\n",
    "us.addBlock([\"Mehul\",\"Password\"])\n",
    "us.addBlock([\"Devin\",\"Password\"])"
   ]
  },
  {
   "cell_type": "markdown",
   "id": "billion-baseline",
   "metadata": {},
   "source": [
    "### Try it Yourself!!!"
   ]
  },
  {
   "cell_type": "code",
   "execution_count": null,
   "id": "continuing-lender",
   "metadata": {},
   "outputs": [],
   "source": []
  },
  {
   "cell_type": "markdown",
   "id": "scenic-windsor",
   "metadata": {},
   "source": [
    "### Exercise 2: Add a Block\n",
    "`.addblock()`"
   ]
  },
  {
   "cell_type": "code",
   "execution_count": null,
   "id": "cognitive-daisy",
   "metadata": {},
   "outputs": [],
   "source": []
  },
  {
   "cell_type": "markdown",
   "id": "korean-drawing",
   "metadata": {},
   "source": [
    "### Exercise 3: Get the length of the Chain\n",
    "\n",
    "`getLength()` returns the length of the Chain"
   ]
  },
  {
   "cell_type": "code",
   "execution_count": null,
   "id": "angry-amino",
   "metadata": {},
   "outputs": [],
   "source": []
  },
  {
   "cell_type": "code",
   "execution_count": 5,
   "id": "decimal-provision",
   "metadata": {},
   "outputs": [
    {
     "data": {
      "text/plain": [
       "4"
      ]
     },
     "execution_count": 5,
     "metadata": {},
     "output_type": "execute_result"
    }
   ],
   "source": [
    "us.getLength() # example"
   ]
  },
  {
   "cell_type": "markdown",
   "id": "damaged-suspect",
   "metadata": {},
   "source": [
    "### Exercise 4: Use a loop to create blocks and grow a simple blockchain"
   ]
  },
  {
   "cell_type": "code",
   "execution_count": 6,
   "id": "promotional-liquid",
   "metadata": {},
   "outputs": [],
   "source": [
    "chain = authChain()\n",
    "for i in range(1,10):\n",
    "    chain.addBlock(i)\n",
    "    # add on to this and play with what you can do\n",
    "    # the possibilites are endless"
   ]
  },
  {
   "cell_type": "code",
   "execution_count": null,
   "id": "progressive-strike",
   "metadata": {},
   "outputs": [],
   "source": []
  },
  {
   "cell_type": "markdown",
   "id": "norwegian-equipment",
   "metadata": {},
   "source": [
    "## Attributes\n",
    "\n",
    "`.blocks[i]` notation is how we call the attributes\n",
    "\n",
    "These are the attributes:\n",
    "- `timestamp`\n",
    "- `auth`\n",
    "- `previousHash`\n",
    "- `hash`\n",
    "- `index`"
   ]
  },
  {
   "cell_type": "code",
   "execution_count": 9,
   "id": "unlikely-tulsa",
   "metadata": {},
   "outputs": [
    {
     "name": "stdout",
     "output_type": "stream",
     "text": [
      "Timestamp: 2021-04-15 18:16:48.297683\n",
      "\n",
      "Authentication Credentials: ['Joel', 'Password']\n",
      "\n",
      "Previous Hash: 51a832912748d88862288a49f56d23d4d7bee1d43f82d533d54d0c2155f514db\n",
      "\n",
      "Hash: 51a832912748d88862288a49f56d23d4d7bee1d43f82d533d54d0c2155f514db\n",
      "\n",
      "Index: 3\n"
     ]
    }
   ],
   "source": [
    "print(\"Timestamp: \"+str(us.blocks[0].timestamp))\n",
    "print(\"\\nAuthentication Credentials: \"+str(us.blocks[1].auth))\n",
    "print(\"\\nPrevious Hash: \"+str(us.blocks[2].previousHash))\n",
    "print(\"\\nHash: \"+str(us.blocks[1].hash)) \n",
    "# Note how the previous hash matches the hash of the block at the index before it.\n",
    "print(\"\\nIndex: \"+str(us.blocks[3].index))"
   ]
  },
  {
   "cell_type": "markdown",
   "id": "irish-signature",
   "metadata": {},
   "source": [
    "### Advanced Exercise 1:  Write a function to determine if the hash matches the previous hash on the index that follows it\n",
    "\n",
    "This is what makes Blockchain so secure and immutable."
   ]
  },
  {
   "cell_type": "code",
   "execution_count": null,
   "id": "successful-blame",
   "metadata": {},
   "outputs": [],
   "source": []
  },
  {
   "cell_type": "markdown",
   "id": "possible-frame",
   "metadata": {},
   "source": [
    "### Advanced Exercise 2: Explore other uses with this framework. There are countless unexplored applications of this technology!"
   ]
  },
  {
   "cell_type": "code",
   "execution_count": null,
   "id": "failing-enhancement",
   "metadata": {},
   "outputs": [],
   "source": []
  }
 ],
 "metadata": {
  "kernelspec": {
   "display_name": "Python 3",
   "language": "python",
   "name": "python3"
  },
  "language_info": {
   "codemirror_mode": {
    "name": "ipython",
    "version": 3
   },
   "file_extension": ".py",
   "mimetype": "text/x-python",
   "name": "python",
   "nbconvert_exporter": "python",
   "pygments_lexer": "ipython3",
   "version": "3.8.8"
  }
 },
 "nbformat": 4,
 "nbformat_minor": 5
}
